{
 "cells": [
  {
   "cell_type": "code",
   "execution_count": 21,
   "metadata": {},
   "outputs": [],
   "source": [
    "import pandas as pd\n",
    "from sklearn.model_selection import train_test_split\n",
    "from sklearn.metrics import mean_squared_error, mean_absolute_error, r2_score\n",
    "from sklearn.preprocessing import StandardScaler\n",
    "import matplotlib.pyplot as plt\n",
    "import seaborn as sns\n",
    "from model import LinearRegressionModel"
   ]
  },
  {
   "cell_type": "markdown",
   "metadata": {},
   "source": [
    "Load and preprocess data"
   ]
  },
  {
   "cell_type": "code",
   "execution_count": null,
   "metadata": {},
   "outputs": [],
   "source": [
    "data = pd.read_csv(\"./weather.csv\")\n",
    "data.head()"
   ]
  },
  {
   "cell_type": "code",
   "execution_count": null,
   "metadata": {},
   "outputs": [],
   "source": [
    "data = pd.get_dummies(data, columns=['Description'], drop_first=False, dtype=int)\n",
    "data.head()"
   ]
  },
  {
   "cell_type": "code",
   "execution_count": 24,
   "metadata": {},
   "outputs": [],
   "source": [
    "# Define features and target variable\n",
    "X = data.drop(columns=['Temperature_c'])\n",
    "Y = data['Temperature_c']"
   ]
  },
  {
   "cell_type": "code",
   "execution_count": 25,
   "metadata": {},
   "outputs": [],
   "source": [
    "# Train-validation-test split\n",
    "X_train, X_temp, Y_train, Y_temp = train_test_split(\n",
    "    X, Y, test_size=0.3, random_state=42)\n",
    "\n",
    "X_val, X_test, Y_val, Y_test = train_test_split(\n",
    "    X_temp, Y_temp, test_size=0.5, random_state=42)"
   ]
  },
  {
   "cell_type": "code",
   "execution_count": 26,
   "metadata": {},
   "outputs": [],
   "source": [
    "# Standardize the features\n",
    "scaler = StandardScaler()\n",
    "X_train_scaled = scaler.fit_transform(X_train)\n",
    "X_val_scaled = scaler.transform(X_val)\n",
    "X_test_scaled = scaler.transform(X_test)"
   ]
  },
  {
   "cell_type": "code",
   "execution_count": null,
   "metadata": {},
   "outputs": [],
   "source": [
    "plt.figure(figsize=(8, 6))\n",
    "sns.heatmap(data.corr(), annot=True, cmap=\"coolwarm\")\n",
    "plt.title(\"Feature Correlation Matrix\")\n",
    "plt.show()"
   ]
  },
  {
   "cell_type": "code",
   "execution_count": 28,
   "metadata": {},
   "outputs": [],
   "source": [
    "# Train Linear Regression Model without tuning\n",
    "linear_model = LinearRegressionModel()\n",
    "theta_before, _ = linear_model.fit(\n",
    "    X_train_scaled, Y_train.to_numpy().reshape(-1, 1), learning_rate=1e-3, iterations=100\n",
    ")\n",
    "Y_pred_test_lr_before = linear_model.predict(X_test_scaled)"
   ]
  },
  {
   "cell_type": "code",
   "execution_count": null,
   "metadata": {},
   "outputs": [],
   "source": [
    "# Tuning the Linear Regression Model\n",
    "best_learning_rate, _ = linear_model.tune(\n",
    "    X_train_scaled, Y_train.to_numpy().reshape(-1, 1),\n",
    "    X_val_scaled, Y_val.to_numpy().reshape(-1, 1),\n",
    "    [1e-7, 1e-6, 5e-5, 1e-5, 5e-4, 1e-4, 5e-3, 1e-3, 5e-2, 1e-2], iterations=1000\n",
    ")\n",
    "\n",
    "# Train Linear Regression Model with tuned learning rate\n",
    "theta_after, _ = linear_model.fit(\n",
    "    X_train_scaled, Y_train.to_numpy().reshape(-1, 1),\n",
    "    learning_rate=best_learning_rate, iterations=1000\n",
    ")\n",
    "Y_pred_test_lr_after = linear_model.predict(X_test_scaled)"
   ]
  },
  {
   "cell_type": "code",
   "execution_count": null,
   "metadata": {},
   "outputs": [],
   "source": [
    "# Calculate metrics for Linear Regression before tuning\n",
    "mse_test_lr_before = mean_squared_error(Y_test, Y_pred_test_lr_before)\n",
    "mae_test_lr_before = mean_absolute_error(Y_test, Y_pred_test_lr_before)\n",
    "r2_test_lr_before = r2_score(Y_test, Y_pred_test_lr_before)\n",
    "\n",
    "# Calculate metrics for Linear Regression after tuning\n",
    "mse_test_lr_after = mean_squared_error(Y_test, Y_pred_test_lr_after)\n",
    "mae_test_lr_after = mean_absolute_error(Y_test, Y_pred_test_lr_after)\n",
    "r2_test_lr_after = r2_score(Y_test, Y_pred_test_lr_after)\n",
    "\n",
    "# Print performance metrics for Linear Regression before tuning\n",
    "print(\"Linear Regression Performance Metrics (Before Tuning):\")\n",
    "print(f\"Test MSE: {mse_test_lr_before:.2f}\")\n",
    "print(f\"Test MAE: {mae_test_lr_before:.2f}\")\n",
    "print(f\"Test R²: {r2_test_lr_before:.2f}\")\n",
    "\n",
    "\n",
    "# Print performance metrics after tuning\n",
    "print(\"\\nLinear Regression Performance Metrics (After Tuning):\")\n",
    "print(f\"Test MSE: {mse_test_lr_after:.2f}\")\n",
    "print(f\"Test MAE: {mae_test_lr_after:.2f}\")\n",
    "print(f\"Test R²: {r2_test_lr_after:.2f}\")\n"
   ]
  }
 ],
 "metadata": {
  "kernelspec": {
   "display_name": "Python 3",
   "language": "python",
   "name": "python3"
  },
  "language_info": {
   "codemirror_mode": {
    "name": "ipython",
    "version": 3
   },
   "file_extension": ".py",
   "mimetype": "text/x-python",
   "name": "python",
   "nbconvert_exporter": "python",
   "pygments_lexer": "ipython3",
   "version": "3.10.12"
  }
 },
 "nbformat": 4,
 "nbformat_minor": 2
}
